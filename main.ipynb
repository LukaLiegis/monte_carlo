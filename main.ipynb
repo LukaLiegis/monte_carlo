{
 "cells": [
  {
   "metadata": {
    "ExecuteTime": {
     "end_time": "2024-10-08T19:06:47.027971Z",
     "start_time": "2024-10-08T19:06:42.873990Z"
    }
   },
   "cell_type": "code",
   "source": [
    "import numpy as np\n",
    "import pandas as pd\n",
    "from scipy.stats import norm"
   ],
   "id": "323f326fe9f8dae6",
   "outputs": [],
   "execution_count": 1
  },
  {
   "metadata": {
    "ExecuteTime": {
     "end_time": "2024-10-08T19:06:47.038483Z",
     "start_time": "2024-10-08T19:06:47.036216Z"
    }
   },
   "cell_type": "code",
   "source": [
    "def monte_carlo_option_pricing(S0, K, T, r, sigma, num_simulations):\n",
    "    \"\"\"\n",
    "    Monte Carlo simulation for European call option pricing.\n",
    "\n",
    "    Parameters:\n",
    "    S0 : float\n",
    "        Initial stock price\n",
    "    K : float\n",
    "        Strike price\n",
    "    T : float\n",
    "        Time to maturity (in years)\n",
    "    r : float\n",
    "        Risk-free interest rate\n",
    "    sigma : float\n",
    "        Volatility of the underlying asset\n",
    "    num_simulations : int\n",
    "        Number of simulations\n",
    "\n",
    "    Returns:\n",
    "    float\n",
    "        Estimated option price\n",
    "    \"\"\"\n",
    "    # Generate random standard normal variables\n",
    "    Z = np.random.standard_normal(num_simulations)\n",
    "    # Calculate stock price at maturity\n",
    "    ST = S0 * np.exp((r - 0.5 * sigma**2) * T + sigma * np.sqrt(T) * Z)\n",
    "    # Calculate the payoff at maturity\n",
    "    payoffs = np.maximum(ST - K, 0)\n",
    "    # Discount back to present value\n",
    "    option_price = np.exp(-r * T) * np.mean(payoffs)\n",
    "    return option_price"
   ],
   "id": "51d35370f3376e4c",
   "outputs": [],
   "execution_count": 2
  },
  {
   "metadata": {
    "ExecuteTime": {
     "end_time": "2024-10-08T19:06:47.049795Z",
     "start_time": "2024-10-08T19:06:47.047186Z"
    }
   },
   "cell_type": "code",
   "source": [
    "def black_scholes_option_price(S0, K, T, r, sigma):\n",
    "    \"\"\"\n",
    "    Black-Scholes formula for European call option pricing.\n",
    "\n",
    "    Parameters:\n",
    "    S0 : float\n",
    "        Initial stock price\n",
    "    K : float\n",
    "        Strike price\n",
    "    T : float\n",
    "        Time to maturity (in years)\n",
    "    r : float\n",
    "        Risk-free interest rate\n",
    "    sigma : float\n",
    "        Volatility of the underlying asset\n",
    "\n",
    "    Returns:\n",
    "    float\n",
    "        Option price\n",
    "    \"\"\"\n",
    "    d1 = (np.log(S0 / K) + (r + 0.5 * sigma**2) * T) / (sigma * np.sqrt(T))\n",
    "    d2 = d1 - sigma * np.sqrt(T)\n",
    "    call_price = (S0 * norm.cdf(d1)) - (K * np.exp(-r * T) * norm.cdf(d2))\n",
    "    return call_price"
   ],
   "id": "1c62bfbb25faab5a",
   "outputs": [],
   "execution_count": 3
  },
  {
   "metadata": {
    "ExecuteTime": {
     "end_time": "2024-10-08T19:07:19.032978Z",
     "start_time": "2024-10-08T19:07:19.030617Z"
    }
   },
   "cell_type": "code",
   "source": [
    "# Parameters\n",
    "S0 = 100          # Initial stock price\n",
    "K = 100           # Strike price\n",
    "T = 1.0           # Time to maturity (1 year)\n",
    "r = 0.05          # Risk-free interest rate\n",
    "sigma = 0.3       # Volatility\n",
    "num_simulations = 100000  # Number of Monte Carlo simulations"
   ],
   "id": "6f34202598c4041",
   "outputs": [],
   "execution_count": 7
  },
  {
   "metadata": {
    "ExecuteTime": {
     "end_time": "2024-10-08T19:07:19.376925Z",
     "start_time": "2024-10-08T19:07:19.371989Z"
    }
   },
   "cell_type": "code",
   "source": [
    "# Calculate option prices\n",
    "mc_price = monte_carlo_option_pricing(S0, K, T, r, sigma, num_simulations)\n",
    "bs_price = black_scholes_option_price(S0, K, T, r, sigma)"
   ],
   "id": "96e0466539112f78",
   "outputs": [],
   "execution_count": 8
  },
  {
   "cell_type": "code",
   "id": "initial_id",
   "metadata": {
    "collapsed": true,
    "ExecuteTime": {
     "end_time": "2024-10-08T19:07:19.987519Z",
     "start_time": "2024-10-08T19:07:19.984088Z"
    }
   },
   "source": [
    "# Store results in a pandas DataFrame\n",
    "results = pd.DataFrame({\n",
    "    'Method': ['Monte Carlo', 'Black-Scholes'],\n",
    "    'Option Price': [mc_price, bs_price]\n",
    "})\n",
    "\n",
    "print(results)"
   ],
   "outputs": [
    {
     "name": "stdout",
     "output_type": "stream",
     "text": [
      "          Method  Option Price\n",
      "0    Monte Carlo     14.245291\n",
      "1  Black-Scholes     14.231255\n"
     ]
    }
   ],
   "execution_count": 9
  },
  {
   "metadata": {},
   "cell_type": "code",
   "outputs": [],
   "execution_count": null,
   "source": "",
   "id": "388285c68fa0aca"
  }
 ],
 "metadata": {
  "kernelspec": {
   "display_name": "Python 3",
   "language": "python",
   "name": "python3"
  },
  "language_info": {
   "codemirror_mode": {
    "name": "ipython",
    "version": 2
   },
   "file_extension": ".py",
   "mimetype": "text/x-python",
   "name": "python",
   "nbconvert_exporter": "python",
   "pygments_lexer": "ipython2",
   "version": "2.7.6"
  }
 },
 "nbformat": 4,
 "nbformat_minor": 5
}
