{
 "cells": [
  {
   "metadata": {
    "ExecuteTime": {
     "end_time": "2024-10-08T19:18:37.120802Z",
     "start_time": "2024-10-08T19:18:36.608758Z"
    }
   },
   "cell_type": "code",
   "source": [
    "import numpy as np\n",
    "from scipy.stats import norm\n",
    "import matplotlib.pyplot as plt"
   ],
   "id": "323f326fe9f8dae6",
   "outputs": [],
   "execution_count": 10
  },
  {
   "metadata": {
    "ExecuteTime": {
     "end_time": "2024-10-08T19:18:37.127555Z",
     "start_time": "2024-10-08T19:18:37.125215Z"
    }
   },
   "cell_type": "code",
   "source": [
    "def monte_carlo_option_pricing(S0, K, T, r, sigma, num_simulations):\n",
    "    \"\"\"\n",
    "    Monte Carlo simulation for European call option pricing.\n",
    "\n",
    "    Parameters:\n",
    "    S0 : float\n",
    "        Initial stock price\n",
    "    K : float\n",
    "        Strike price\n",
    "    T : float\n",
    "        Time to maturity (in years)\n",
    "    r : float\n",
    "        Risk-free interest rate\n",
    "    sigma : float\n",
    "        Volatility of the underlying asset\n",
    "    num_simulations : int\n",
    "        Number of simulations\n",
    "\n",
    "    Returns:\n",
    "    float\n",
    "        Estimated option price\n",
    "    \"\"\"\n",
    "    # Generate random standard normal variables\n",
    "    Z = np.random.standard_normal(num_simulations)\n",
    "    # Calculate stock price at maturity\n",
    "    ST = S0 * np.exp((r - 0.5 * sigma**2) * T + sigma * np.sqrt(T) * Z)\n",
    "    # Calculate the payoff at maturity\n",
    "    payoffs = np.maximum(ST - K, 0)\n",
    "    # Discount back to present value\n",
    "    option_price = np.exp(-r * T) * np.mean(payoffs)\n",
    "    return option_price"
   ],
   "id": "51d35370f3376e4c",
   "outputs": [],
   "execution_count": 11
  },
  {
   "metadata": {
    "ExecuteTime": {
     "end_time": "2024-10-08T19:18:37.134604Z",
     "start_time": "2024-10-08T19:18:37.132558Z"
    }
   },
   "cell_type": "code",
   "source": [
    "def black_scholes_option_price(S0, K, T, r, sigma):\n",
    "    \"\"\"\n",
    "    Black-Scholes formula for European call option pricing.\n",
    "\n",
    "    Parameters:\n",
    "    S0 : float\n",
    "        Initial stock price\n",
    "    K : float\n",
    "        Strike price\n",
    "    T : float\n",
    "        Time to maturity (in years)\n",
    "    r : float\n",
    "        Risk-free interest rate\n",
    "    sigma : float\n",
    "        Volatility of the underlying asset\n",
    "\n",
    "    Returns:\n",
    "    float\n",
    "        Option price\n",
    "    \"\"\"\n",
    "    d1 = (np.log(S0 / K) + (r + 0.5 * sigma**2) * T) / (sigma * np.sqrt(T))\n",
    "    d2 = d1 - sigma * np.sqrt(T)\n",
    "    call_price = (S0 * norm.cdf(d1)) - (K * np.exp(-r * T) * norm.cdf(d2))\n",
    "    return call_price"
   ],
   "id": "1c62bfbb25faab5a",
   "outputs": [],
   "execution_count": 12
  },
  {
   "metadata": {
    "ExecuteTime": {
     "end_time": "2024-10-08T19:18:37.140849Z",
     "start_time": "2024-10-08T19:18:37.139215Z"
    }
   },
   "cell_type": "code",
   "source": [
    "# Parameters\n",
    "S0 = 100          # Initial stock price\n",
    "K = 100           # Strike price\n",
    "T = 1.0           # Time to maturity (1 year)\n",
    "r = 0.05          # Risk-free interest rate\n",
    "sigma = 0.3       # Volatility"
   ],
   "id": "6f34202598c4041",
   "outputs": [],
   "execution_count": 13
  },
  {
   "metadata": {
    "ExecuteTime": {
     "end_time": "2024-10-08T19:18:37.147484Z",
     "start_time": "2024-10-08T19:18:37.145708Z"
    }
   },
   "cell_type": "code",
   "source": [
    "# Calculate Black-Scholes price once\n",
    "bs_price = black_scholes_option_price(S0, K, T, r, sigma)"
   ],
   "id": "cec9859ecc7bb62",
   "outputs": [],
   "execution_count": 14
  },
  {
   "metadata": {
    "ExecuteTime": {
     "end_time": "2024-10-08T19:18:37.154362Z",
     "start_time": "2024-10-08T19:18:37.152721Z"
    }
   },
   "cell_type": "code",
   "source": [
    "# Number of simulations\n",
    "simulation_numbers = [10**i for i in range(1, 8)]  # 10, 100, ..., 10,000,000\n",
    "errors = []"
   ],
   "id": "4c6a8ab12d2b804f",
   "outputs": [],
   "execution_count": 15
  },
  {
   "metadata": {
    "ExecuteTime": {
     "end_time": "2024-10-08T19:19:59.478257Z",
     "start_time": "2024-10-08T19:19:59.183503Z"
    }
   },
   "cell_type": "code",
   "source": [
    "print(\"Number of Simulations | Monte Carlo Price | Error\")\n",
    "print(\"-----------------------------------------------\")\n",
    "for num_simulations in simulation_numbers:\n",
    "    mc_price = monte_carlo_option_pricing(S0, K, T, r, sigma, num_simulations)\n",
    "    error = mc_price - bs_price\n",
    "    errors.append(error)\n",
    "    print(f\"{num_simulations:>20} | {mc_price:.6f}         | {error:.6f}\")"
   ],
   "id": "e558f61e7a3b9b09",
   "outputs": [
    {
     "name": "stdout",
     "output_type": "stream",
     "text": [
      "Number of Simulations | Monte Carlo Price | Error\n",
      "-----------------------------------------------\n",
      "                  10 | 14.523823         | 0.292568\n",
      "                 100 | 16.111613         | 1.880358\n",
      "                1000 | 14.438794         | 0.207539\n",
      "               10000 | 14.319798         | 0.088543\n",
      "              100000 | 14.401857         | 0.170602\n",
      "             1000000 | 14.193960         | -0.037295\n",
      "            10000000 | 14.228450         | -0.002805\n"
     ]
    }
   ],
   "execution_count": 19
  },
  {
   "metadata": {
    "ExecuteTime": {
     "end_time": "2024-10-08T19:18:37.766469Z",
     "start_time": "2024-10-08T19:18:37.528545Z"
    }
   },
   "cell_type": "code",
   "source": [
    "# Plot the error vs number of simulations\n",
    "plt.figure(figsize=(10, 6))\n",
    "plt.plot(simulation_numbers, errors, marker='o')\n",
    "plt.xscale('log')\n",
    "plt.xlabel('Number of Simulations')\n",
    "plt.ylabel('Error (Monte Carlo Price - Black-Scholes Price)')\n",
    "plt.title('Error vs Number of Simulations')\n",
    "plt.grid(True)\n",
    "plt.show()"
   ],
   "id": "e837b5d922b25dcd",
   "outputs": [
    {
     "data": {
      "text/plain": [
       "<Figure size 1000x600 with 1 Axes>"
      ],
      "image/png": "[encoded data removed]"
     },
     "metadata": {},
     "output_type": "display_data"
    }
   ],
   "execution_count": 18
  },
  {
   "metadata": {
    "ExecuteTime": {
     "end_time": "2024-10-08T19:18:37.779170Z",
     "start_time": "2024-10-08T19:18:37.777711Z"
    }
   },
   "cell_type": "code",
   "source": "",
   "id": "388285c68fa0aca",
   "outputs": [],
   "execution_count": null
  }
 ],
 "metadata": {
  "kernelspec": {
   "display_name": "Python 3",
   "language": "python",
   "name": "python3"
  },
  "language_info": {
   "codemirror_mode": {
    "name": "ipython",
    "version": 2
   },
   "file_extension": ".py",
   "mimetype": "text/x-python",
   "name": "python",
   "nbconvert_exporter": "python",
   "pygments_lexer": "ipython2",
   "version": "2.7.6"
  }
 },
 "nbformat": 4,
 "nbformat_minor": 5
}
